{
 "cells": [
  {
   "cell_type": "markdown",
   "id": "80d5fef5",
   "metadata": {},
   "source": [
    "# Assignment 1 submitted by Srushti Changan "
   ]
  },
  {
   "cell_type": "markdown",
   "id": "96a310f2",
   "metadata": {},
   "source": [
    "### Q1.write a python to calculate the length of a string."
   ]
  },
  {
   "cell_type": "code",
   "execution_count": 1,
   "id": "a4400076",
   "metadata": {},
   "outputs": [
    {
     "name": "stdout",
     "output_type": "stream",
     "text": [
      "enter the string: Happy new year \n"
     ]
    }
   ],
   "source": [
    "s=input(\"enter the string: \")"
   ]
  },
  {
   "cell_type": "code",
   "execution_count": 2,
   "id": "9c53a598",
   "metadata": {},
   "outputs": [],
   "source": [
    "n=len(s)"
   ]
  },
  {
   "cell_type": "code",
   "execution_count": 3,
   "id": "06f76ef2",
   "metadata": {},
   "outputs": [
    {
     "name": "stdout",
     "output_type": "stream",
     "text": [
      "length of given string:  15\n"
     ]
    }
   ],
   "source": [
    "print(\"length of given string: \",n)"
   ]
  },
  {
   "cell_type": "markdown",
   "id": "8f995d57",
   "metadata": {},
   "source": [
    "### Q2.Python program to calculate the square root."
   ]
  },
  {
   "cell_type": "code",
   "execution_count": 4,
   "id": "aac2a80c",
   "metadata": {},
   "outputs": [
    {
     "name": "stdout",
     "output_type": "stream",
     "text": [
      "enter the number of: 144\n"
     ]
    }
   ],
   "source": [
    "a=float(input(\"enter the number of: \"))"
   ]
  },
  {
   "cell_type": "code",
   "execution_count": 5,
   "id": "0674d32e",
   "metadata": {},
   "outputs": [],
   "source": [
    "b=a**(1/2)"
   ]
  },
  {
   "cell_type": "code",
   "execution_count": 6,
   "id": "1443c3a1",
   "metadata": {},
   "outputs": [
    {
     "name": "stdout",
     "output_type": "stream",
     "text": [
      "square root:  12.0\n"
     ]
    }
   ],
   "source": [
    "print(\"square root: \",b)"
   ]
  },
  {
   "cell_type": "markdown",
   "id": "703138d3",
   "metadata": {},
   "source": [
    "### Q3.Write a python program to convert temperature in celcius to temperature in fehrenheit."
   ]
  },
  {
   "cell_type": "code",
   "execution_count": 7,
   "id": "6d92717d",
   "metadata": {},
   "outputs": [
    {
     "name": "stdout",
     "output_type": "stream",
     "text": [
      "enter the temperature in celsius: 33\n"
     ]
    }
   ],
   "source": [
    "celcius=float(input(\"enter the temperature in celsius: \"))"
   ]
  },
  {
   "cell_type": "code",
   "execution_count": 8,
   "id": "145cc527",
   "metadata": {},
   "outputs": [],
   "source": [
    "fahrenheit=celcius*9/5 +32"
   ]
  },
  {
   "cell_type": "code",
   "execution_count": 9,
   "id": "3064552c",
   "metadata": {},
   "outputs": [
    {
     "name": "stdout",
     "output_type": "stream",
     "text": [
      "temperature in fahrenheit is:  91.4\n"
     ]
    }
   ],
   "source": [
    "print(\"temperature in fahrenheit is: \",fahrenheit)"
   ]
  },
  {
   "cell_type": "markdown",
   "id": "c1057585",
   "metadata": {},
   "source": [
    "### Q4.Write a data type needed for given data.(10,4.5,2+6j)"
   ]
  },
  {
   "cell_type": "code",
   "execution_count": 10,
   "id": "cb9a10e5",
   "metadata": {},
   "outputs": [],
   "source": [
    "num=10"
   ]
  },
  {
   "cell_type": "code",
   "execution_count": 11,
   "id": "5102d773",
   "metadata": {},
   "outputs": [
    {
     "data": {
      "text/plain": [
       "int"
      ]
     },
     "execution_count": 11,
     "metadata": {},
     "output_type": "execute_result"
    }
   ],
   "source": [
    "type(num)"
   ]
  },
  {
   "cell_type": "code",
   "execution_count": 12,
   "id": "65689c36",
   "metadata": {},
   "outputs": [],
   "source": [
    "num=4.5"
   ]
  },
  {
   "cell_type": "code",
   "execution_count": 13,
   "id": "064401cd",
   "metadata": {},
   "outputs": [
    {
     "data": {
      "text/plain": [
       "float"
      ]
     },
     "execution_count": 13,
     "metadata": {},
     "output_type": "execute_result"
    }
   ],
   "source": [
    "type(num)"
   ]
  },
  {
   "cell_type": "code",
   "execution_count": 14,
   "id": "476f4a1f",
   "metadata": {},
   "outputs": [],
   "source": [
    "num=2+6j"
   ]
  },
  {
   "cell_type": "code",
   "execution_count": 15,
   "id": "b3101ea9",
   "metadata": {},
   "outputs": [
    {
     "data": {
      "text/plain": [
       "complex"
      ]
     },
     "execution_count": 15,
     "metadata": {},
     "output_type": "execute_result"
    }
   ],
   "source": [
    "type(num)"
   ]
  },
  {
   "cell_type": "code",
   "execution_count": null,
   "id": "8214b2dc",
   "metadata": {},
   "outputs": [],
   "source": []
  }
 ],
 "metadata": {
  "kernelspec": {
   "display_name": "Python 3 (ipykernel)",
   "language": "python",
   "name": "python3"
  },
  "language_info": {
   "codemirror_mode": {
    "name": "ipython",
    "version": 3
   },
   "file_extension": ".py",
   "mimetype": "text/x-python",
   "name": "python",
   "nbconvert_exporter": "python",
   "pygments_lexer": "ipython3",
   "version": "3.9.13"
  }
 },
 "nbformat": 4,
 "nbformat_minor": 5
}
